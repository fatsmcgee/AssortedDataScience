{
  "nbformat": 4,
  "nbformat_minor": 0,
  "metadata": {
    "colab": {
      "provenance": [],
      "gpuType": "T4",
      "authorship_tag": "ABX9TyNbpeN7V4RtHNoHb2am6ntl",
      "include_colab_link": true
    },
    "kernelspec": {
      "name": "python3",
      "display_name": "Python 3"
    },
    "language_info": {
      "name": "python"
    },
    "accelerator": "GPU"
  },
  "cells": [
    {
      "cell_type": "markdown",
      "metadata": {
        "id": "view-in-github",
        "colab_type": "text"
      },
      "source": [
        "<a href=\"https://colab.research.google.com/github/fatsmcgee/AssortedDataScience/blob/master/Cuda_Numba_Matmul_Optimization.ipynb\" target=\"_parent\"><img src=\"https://colab.research.google.com/assets/colab-badge.svg\" alt=\"Open In Colab\"/></a>"
      ]
    },
    {
      "cell_type": "markdown",
      "source": [],
      "metadata": {
        "id": "MxlXKRkcfHlv"
      }
    },
    {
      "cell_type": "markdown",
      "source": [
        "Matmult implementations following: https://siboehm.com/articles/22/CUDA-MMM"
      ],
      "metadata": {
        "id": "PsAk4ghFd8Lb"
      }
    },
    {
      "cell_type": "code",
      "source": [
        "import numpy as np\n",
        "from numba import cuda, float32\n",
        "import math\n"
      ],
      "metadata": {
        "id": "hSPXaILTeATP"
      },
      "execution_count": 1,
      "outputs": []
    },
    {
      "cell_type": "code",
      "source": [
        "# Helper function to calculate grid dimensions\n",
        "def ceil_div(a, b):\n",
        "    return math.ceil(a / b)"
      ],
      "metadata": {
        "id": "NnzH05D7ezm7"
      },
      "execution_count": 2,
      "outputs": []
    },
    {
      "cell_type": "code",
      "source": [
        "@cuda.jit\n",
        "def sgemm_naive(M, N, K, alpha, A, B, beta, C):\n",
        "    # Get thread position\n",
        "    x, y = cuda.grid(2)  # Shortcut for 2D grid position\n",
        "\n",
        "    # Check if thread is within matrix bounds\n",
        "    if x < M and y < N:\n",
        "        tmp = 0.0\n",
        "        for i in range(K):\n",
        "            tmp += A[x, i] * B[i, y]\n",
        "\n",
        "        # C = α*(A@B) + β*C\n",
        "        C[x, y] = alpha * tmp + beta * C[x, y]"
      ],
      "metadata": {
        "id": "fOivqZ6Ke24B"
      },
      "execution_count": 3,
      "outputs": []
    },
    {
      "cell_type": "code",
      "source": [
        "# A is MxK, B is KxN, C is MxN\n",
        "M,N,K = (1024, 1024, 1024)\n",
        "\n",
        "# Create random input matrices (np.random.rand accepts dtype parameter)\n",
        "A = np.random.rand(M, K).astype(np.float32)\n",
        "B = np.random.rand(K, N).astype(np.float32)\n",
        "C = np.random.rand(M, N).astype(np.float32)\n",
        "\n",
        "# Transfer to device and launch kernel in one go using auto-managed memory\n",
        "threadsperblock = (32, 32)\n",
        "blockspergrid = (ceil_div(M, threadsperblock[0]), ceil_div(N, threadsperblock[1]))\n",
        "\n",
        "sgemm_naive[blockspergrid, threadsperblock](\n",
        "    M, N, K,\n",
        "    float32(1.0),  # alpha\n",
        "    A, B,\n",
        "    float32(0.0),  # beta\n",
        "    C\n",
        ")\n",
        "\n",
        "# Verify (C is automatically updated due to managed memory)\n",
        "#np.testing.assert_allclose(C, A @ B, rtol=1e-5)"
      ],
      "metadata": {
        "colab": {
          "base_uri": "https://localhost:8080/"
        },
        "id": "d4Kwl1Pve5lB",
        "outputId": "6cead66d-63e7-4d04-b431-abd660ddaec3"
      },
      "execution_count": 9,
      "outputs": [
        {
          "output_type": "stream",
          "name": "stderr",
          "text": [
            "/usr/local/lib/python3.10/dist-packages/numba/cuda/cudadrv/devicearray.py:888: NumbaPerformanceWarning: Host array used in CUDA kernel will incur copy overhead to/from device.\n",
            "  warn(NumbaPerformanceWarning(msg))\n"
          ]
        }
      ]
    },
    {
      "cell_type": "code",
      "source": [],
      "metadata": {
        "id": "pkdQr1L8fa1m"
      },
      "execution_count": null,
      "outputs": []
    }
  ]
}